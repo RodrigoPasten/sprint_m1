{
 "cells": [
  {
   "cell_type": "markdown",
   "id": "26f3db0c-9965-4f5a-a9b9-7a61d848c8b0",
   "metadata": {},
   "source": [
    "Desarrollar un sistema de gestión de inventario que permita a los usuarios agregar, eliminar y \n",
    "actualizar productos en el inventario, así como realizar consultas y generar informes sobre e \r\n",
    "estado del inventario. El sistema debe estar estructurado utilizando programación orientada a\r\n",
    "objetos, y debe aplicar buenas prácticas de la industria, como la modularización del código y el\r\n",
    "manejo de errores y excepciones."
   ]
  },
  {
   "cell_type": "markdown",
   "id": "ab774568-6c05-472e-b887-87c36532136c",
   "metadata": {},
   "source": [
    "Diseñe e implemente una clase Producto con los siguientes atributos: id, nombre, descripción, cantidad y precio. La clase debe incluir métodos para obtener y modificar la información de los productos.\n"
   ]
  },
  {
   "cell_type": "code",
   "execution_count": 37,
   "id": "459a1edd-ea91-4ecd-ac90-663ef4f3c087",
   "metadata": {},
   "outputs": [],
   "source": [
    "class Producto:\n",
    "    \"\"\"\n",
    "    Clase que representa un producto en el inventario.\n",
    "\n",
    "    Attributos:\n",
    "        id (str): El identificador único del producto.\n",
    "        nombre (str): El nombre del producto.\n",
    "        descripcion (str): La descripción del producto.\n",
    "        cantidad (int): La cantidad disponible del producto en el inventario.\n",
    "        precio (float): El precio unitario del producto.\n",
    "\n",
    "    Metodos:\n",
    "        obtener_id(): Devuelve el ID del producto.\n",
    "        obtener_nombre(): Devuelve el nombre del producto.\n",
    "        obtener_descripcion(): Devuelve la descripción del producto.\n",
    "        obtener_cantidad(): Devuelve la cantidad del producto en el inventario.\n",
    "        obtener_precio(): Devuelve el precio unitario del producto.\n",
    "        modificar_nombre(nuevo_nombre): Modifica el nombre del producto.\n",
    "        modificar_descripcion(nueva_descripcion): Modifica la descripción del producto.\n",
    "        modificar_cantidad(nueva_cantidad): Modifica la cantidad del producto en el inventario.\n",
    "        modificar_precio(nuevo_precio): Modifica el precio unitario del producto.\n",
    "    \"\"\"\n",
    "    def __init__(self, id_producto, nombre, descripcion, cantidad, precio):\n",
    "        self.id = id_producto\n",
    "        self.nombre = nombre\n",
    "        self.descripcion = descripcion\n",
    "        self.cantidad = cantidad\n",
    "        self.precio = precio\n",
    "\n",
    "    def obtener_id(self):\n",
    "        \"\"\"Devuelve el ID del producto.\"\"\"\n",
    "        return self.id\n",
    "\n",
    "    def obtener_nombre(self):\n",
    "        \"\"\"Devuelve el nombre del producto.\"\"\"\n",
    "        return self.nombre\n",
    "\n",
    "    def obtener_descripcion(self):\n",
    "        \"\"\"Devuelve la descripción del producto.\"\"\"\n",
    "        return self.descripcion\n",
    "\n",
    "    def obtener_cantidad(self):\n",
    "        \"\"\"Devuelve la cantidad del producto en el inventario.\"\"\"\n",
    "        return self.cantidad\n",
    "\n",
    "    def obtener_precio(self):\n",
    "        \"\"\"Devuelve el precio unitario del producto.\"\"\"\n",
    "        return self.precio\n",
    "\n",
    "    def modificar_nombre(self, nuevo_nombre):\n",
    "        \"\"\"Modifica el nombre del producto.\"\"\"\n",
    "        self.nombre = nuevo_nombre\n",
    "\n",
    "    def modificar_descripcion(self, nueva_descripcion):\n",
    "        \"\"\"Modifica la descripción del producto.\"\"\"\n",
    "        self.descripcion = nueva_descripcion\n",
    "\n",
    "    def modificar_cantidad(self, nueva_cantidad):\n",
    "        \"\"\"Modifica la cantidad del producto en el inventario.\"\"\"\n",
    "        self.cantidad = nueva_cantidad\n",
    "\n",
    "    def modificar_precio(self, nuevo_precio):\n",
    "        \"\"\"Modifica el precio unitario del producto.\"\"\"\n",
    "        self.precio = nuevo_precio\n",
    "\n",
    "\n"
   ]
  },
  {
   "cell_type": "code",
   "execution_count": 39,
   "id": "8ed6c8a5-7a02-4d91-8a20-1b2d4e75d430",
   "metadata": {},
   "outputs": [
    {
     "name": "stdout",
     "output_type": "stream",
     "text": [
      "Help on class Producto in module __main__:\n",
      "\n",
      "class Producto(builtins.object)\n",
      " |  Producto(id_producto, nombre, descripcion, cantidad, precio)\n",
      " |  \n",
      " |  Clase que representa un producto en el inventario.\n",
      " |  \n",
      " |  Attributos:\n",
      " |      id (str): El identificador único del producto.\n",
      " |      nombre (str): El nombre del producto.\n",
      " |      descripcion (str): La descripción del producto.\n",
      " |      cantidad (int): La cantidad disponible del producto en el inventario.\n",
      " |      precio (float): El precio unitario del producto.\n",
      " |  \n",
      " |  Metodos:\n",
      " |      obtener_id(): Devuelve el ID del producto.\n",
      " |      obtener_nombre(): Devuelve el nombre del producto.\n",
      " |      obtener_descripcion(): Devuelve la descripción del producto.\n",
      " |      obtener_cantidad(): Devuelve la cantidad del producto en el inventario.\n",
      " |      obtener_precio(): Devuelve el precio unitario del producto.\n",
      " |      modificar_nombre(nuevo_nombre): Modifica el nombre del producto.\n",
      " |      modificar_descripcion(nueva_descripcion): Modifica la descripción del producto.\n",
      " |      modificar_cantidad(nueva_cantidad): Modifica la cantidad del producto en el inventario.\n",
      " |      modificar_precio(nuevo_precio): Modifica el precio unitario del producto.\n",
      " |  \n",
      " |  Methods defined here:\n",
      " |  \n",
      " |  __init__(self, id_producto, nombre, descripcion, cantidad, precio)\n",
      " |      Initialize self.  See help(type(self)) for accurate signature.\n",
      " |  \n",
      " |  modificar_cantidad(self, nueva_cantidad)\n",
      " |      Modifica la cantidad del producto en el inventario.\n",
      " |  \n",
      " |  modificar_descripcion(self, nueva_descripcion)\n",
      " |      Modifica la descripción del producto.\n",
      " |  \n",
      " |  modificar_nombre(self, nuevo_nombre)\n",
      " |      Modifica el nombre del producto.\n",
      " |  \n",
      " |  modificar_precio(self, nuevo_precio)\n",
      " |      Modifica el precio unitario del producto.\n",
      " |  \n",
      " |  obtener_cantidad(self)\n",
      " |      Devuelve la cantidad del producto en el inventario.\n",
      " |  \n",
      " |  obtener_descripcion(self)\n",
      " |      Devuelve la descripción del producto.\n",
      " |  \n",
      " |  obtener_id(self)\n",
      " |      Devuelve el ID del producto.\n",
      " |  \n",
      " |  obtener_nombre(self)\n",
      " |      Devuelve el nombre del producto.\n",
      " |  \n",
      " |  obtener_precio(self)\n",
      " |      Devuelve el precio unitario del producto.\n",
      " |  \n",
      " |  ----------------------------------------------------------------------\n",
      " |  Data descriptors defined here:\n",
      " |  \n",
      " |  __dict__\n",
      " |      dictionary for instance variables (if defined)\n",
      " |  \n",
      " |  __weakref__\n",
      " |      list of weak references to the object (if defined)\n",
      "\n"
     ]
    }
   ],
   "source": [
    "help(Producto)"
   ]
  },
  {
   "cell_type": "code",
   "execution_count": 38,
   "id": "e09114fc-02d8-44de-a4b1-a47dfbe691ea",
   "metadata": {},
   "outputs": [
    {
     "name": "stdout",
     "output_type": "stream",
     "text": [
      "id: 1234\n",
      "nombre: Camiseta Cobreloa\n",
      "descripcion: Camiseta de fútbol 2024\n",
      "precio: $35990\n"
     ]
    }
   ],
   "source": [
    "# Prueba\n",
    "\n",
    "camiseta = Producto(1234, 'Camiseta Cobreloa', 'Camiseta de fútbol 2024', 50, 35990)\n",
    "\n",
    "print(f'id: {camiseta.id}')\n",
    "print(f'nombre: {camiseta.nombre}')\n",
    "print(f'descripcion: {camiseta.descripcion}')\n",
    "print(f'precio: ${camiseta.precio}')\n"
   ]
  },
  {
   "cell_type": "markdown",
   "id": "74525594-d92e-46e9-ac23-84f23992cc69",
   "metadata": {},
   "source": [
    "Diseñe e implemente una clase Inventario que utilice una estructura de datos (por ejemplo, un diccionario) para almacenar objetos de la clase Producto. La clase Inventario debe incluir métodos para realizar las siguientes operaciones:\n",
    "* Agregar un producto al inventario\n",
    "* Eliminar un producto del inventario\n",
    "* Actualizar la información de un producto en el inventario\n",
    "* Buscar un producto en el inventario por su id\n",
    "* Listar todos los productos en el inventario, incluyendo información como la\n",
    "cantidad total de productos y el valor total del inventario"
   ]
  },
  {
   "cell_type": "code",
   "execution_count": 40,
   "id": "25f443f1-9dce-4679-9a95-2cb2d7aba75c",
   "metadata": {},
   "outputs": [],
   "source": [
    "class Inventario:\n",
    "    \"\"\"Representa un inventario de productos.\n",
    "\n",
    "    Atributos:\n",
    "        inventario (dict): Un diccionario que contiene los productos del inventario.\n",
    "\n",
    "    Métodos:\n",
    "        agregar_producto(producto): Agrega un producto al inventario.\n",
    "        eliminar_producto(id_producto): Elimina un producto del inventario por su ID.\n",
    "        actualizar_producto(id_producto, nuevo_producto): Actualiza la información de un producto en el inventario.\n",
    "        buscar_producto_por_id(id_producto): Busca un producto en el inventario por su ID.\n",
    "        listar_productos(): Lista todos los productos en el inventario junto con información adicional.\n",
    "    \"\"\"\n",
    "    def __init__(self):\n",
    "        self.inventario = {}\n",
    "\n",
    "    def agregar_producto(self, producto):\n",
    "        self.inventario[producto.obtener_id()] = producto\n",
    "\n",
    "    def eliminar_producto(self, id_producto):\n",
    "        if id_producto in self.inventario:\n",
    "            del self.inventario[id_producto]\n",
    "        else:\n",
    "            print(f\"El producto con ID {id_producto} no existe en el inventario.\")\n",
    "\n",
    "    def actualizar_producto(self, id_producto, nuevo_producto):\n",
    "        if id_producto in self.inventario:\n",
    "            self.inventario[id_producto] = nuevo_producto\n",
    "        else:\n",
    "            print(f\"El producto con ID {id_producto} no existe en el inventario.\")\n",
    "\n",
    "    def buscar_producto_por_id(self, id_producto):\n",
    "        if id_producto in self.inventario:\n",
    "            return self.inventario[id_producto]\n",
    "        else:\n",
    "            return None\n",
    "\n",
    "    def listar_productos(self):\n",
    "        cantidad_total = sum([producto.obtener_cantidad() for producto in self.inventario.values()])\n",
    "        valor_total = sum([producto.obtener_cantidad() * producto.obtener_precio() for producto in self.inventario.values()])\n",
    "\n",
    "        print(\"Productos en el inventario:\")\n",
    "        for producto in self.inventario.values():\n",
    "            print(\"ID: {}, Nombre: {}, Cantidad: {}, Precio: {}\".format(\n",
    "                producto.obtener_id(), producto.obtener_nombre(), producto.obtener_cantidad(), producto.obtener_precio()\n",
    "            ))\n",
    "        print(f\"Cantidad total de productos: {cantidad_total}\")\n",
    "        print(f\"Valor total del inventario: ${valor_total}\")\n"
   ]
  },
  {
   "cell_type": "code",
   "execution_count": 31,
   "id": "6a4ef6ca-9cc8-49f6-83b9-3cea8f624b41",
   "metadata": {},
   "outputs": [],
   "source": [
    "# Prueba\n",
    "nuevo = Inventario()"
   ]
  },
  {
   "cell_type": "code",
   "execution_count": 32,
   "id": "da0ff003-4003-4ca3-8bba-84631caf9131",
   "metadata": {},
   "outputs": [],
   "source": [
    "nuevo.agregar_producto(camiseta)"
   ]
  },
  {
   "cell_type": "code",
   "execution_count": 33,
   "id": "15cb7589-6376-431a-8567-5104c490794b",
   "metadata": {},
   "outputs": [
    {
     "name": "stdout",
     "output_type": "stream",
     "text": [
      "Productos en el inventario:\n",
      "ID: 1234, Nombre: Camiseta Cobreloa, Cantidad: 50, Precio: 35990\n",
      "Cantidad total de productos: 50\n",
      "Valor total del inventario: $1799500\n"
     ]
    }
   ],
   "source": [
    "nuevo.listar_productos()"
   ]
  },
  {
   "cell_type": "markdown",
   "id": "94da04be-ca62-45a2-9300-d60157bc53fc",
   "metadata": {},
   "source": [
    "3. Implemente una menú de usuario que permita a los usuarios interactuar con el sistema de gestión de inventario. El menú de incluir opciones para realizar las diferentes operaciones disponibles en la clase Inventario. Utilice un bucle while y estructuras de control de flujo if-elif-else para manejar las diferentes opcionesdel menú. (opcional)\n",
    "4. Asegúrese de que el sistema maneje adecuadamente errores y excepciones, como entradas inválidas del usuario o intentos de actualizar o eliminar productos que no existen en el inventario"
   ]
  },
  {
   "cell_type": "code",
   "execution_count": 36,
   "id": "054ff4f9-009f-4bd5-b1d3-fed830aa6d55",
   "metadata": {},
   "outputs": [
    {
     "name": "stdout",
     "output_type": "stream",
     "text": [
      "\n",
      "Menú de Usuario:\n",
      "1. Agregar producto\n",
      "2. Eliminar producto\n",
      "3. Actualizar información de producto\n",
      "4. Buscar producto por ID\n",
      "5. Listar todos los productos\n",
      "6. Salir\n"
     ]
    },
    {
     "name": "stdin",
     "output_type": "stream",
     "text": [
      "Ingrese el número de la opción que desea realizar:  5\n"
     ]
    },
    {
     "name": "stdout",
     "output_type": "stream",
     "text": [
      "Productos en el inventario:\n",
      "Cantidad total de productos: 0\n",
      "Valor total del inventario: $0\n",
      "\n",
      "Menú de Usuario:\n",
      "1. Agregar producto\n",
      "2. Eliminar producto\n",
      "3. Actualizar información de producto\n",
      "4. Buscar producto por ID\n",
      "5. Listar todos los productos\n",
      "6. Salir\n"
     ]
    },
    {
     "name": "stdin",
     "output_type": "stream",
     "text": [
      "Ingrese el número de la opción que desea realizar:  6\n"
     ]
    },
    {
     "name": "stdout",
     "output_type": "stream",
     "text": [
      "Hasta luego!\n"
     ]
    }
   ],
   "source": [
    "# Función para mostrar el menú de opciones\n",
    "def mostrar_menu():\n",
    "    print(\"\\nMenú de Usuario:\")\n",
    "    print(\"1. Agregar producto\")\n",
    "    print(\"2. Eliminar producto\")\n",
    "    print(\"3. Actualizar información de producto\")\n",
    "    print(\"4. Buscar producto por ID\")\n",
    "    print(\"5. Listar todos los productos\")\n",
    "    print(\"6. Salir\")\n",
    "\n",
    "# Crear un objeto de la clase Inventario\n",
    "inventario = Inventario()\n",
    "\n",
    "# Bucle del menú principal\n",
    "while True:\n",
    "    mostrar_menu()\n",
    "    opcion = input(\"Ingrese el número de la opción que desea realizar: \")\n",
    "\n",
    "    if opcion == \"1\":\n",
    "        id_producto = input(\"Ingrese el ID del producto: \")\n",
    "        nombre = input(\"Ingrese el nombre del producto: \")\n",
    "        descripcion = input(\"Ingrese la descripción del producto: \")\n",
    "        cantidad = int(input(\"Ingrese la cantidad del producto: \"))\n",
    "        precio = float(input(\"Ingrese el precio del producto: \"))\n",
    "        nuevo_producto = Producto(id_producto, nombre, descripcion, cantidad, precio)\n",
    "        inventario.agregar_producto(nuevo_producto)\n",
    "        print(\"Producto agregado al inventario.\")\n",
    "\n",
    "    elif opcion == \"2\":\n",
    "        id_producto = input(\"Ingrese el ID del producto que desea eliminar: \")\n",
    "        inventario.eliminar_producto(id_producto)\n",
    "\n",
    "    elif opcion == \"3\":\n",
    "        id_producto = input(\"Ingrese el ID del producto que desea actualizar: \")\n",
    "        producto_actualizado = inventario.buscar_producto_por_id(id_producto)\n",
    "        if producto_actualizado:\n",
    "            nombre = input(\"Ingrese el nuevo nombre del producto: \")\n",
    "            descripcion = input(\"Ingrese la nueva descripción del producto: \")\n",
    "            cantidad = int(input(\"Ingrese la nueva cantidad del producto: \"))\n",
    "            precio = float(input(\"Ingrese el nuevo precio del producto: \"))\n",
    "            producto_actualizado.modificar_nombre(nombre)\n",
    "            producto_actualizado.modificar_descripcion(descripcion)\n",
    "            producto_actualizado.modificar_cantidad(cantidad)\n",
    "            producto_actualizado.modificar_precio(precio)\n",
    "            inventario.actualizar_producto(id_producto, producto_actualizado)\n",
    "            print(\"Información del producto actualizada.\")\n",
    "        else:\n",
    "            print(\"El producto con ID {} no existe en el inventario.\".format(id_producto))\n",
    "\n",
    "    elif opcion == \"4\":\n",
    "        id_producto = input(\"Ingrese el ID del producto que desea buscar: \")\n",
    "        producto_encontrado = inventario.buscar_producto_por_id(id_producto)\n",
    "        if producto_encontrado:\n",
    "            print(\"Producto encontrado:\")\n",
    "            print(\"ID: {}, Nombre: {}, Descripción: {}, Cantidad: {}, Precio: {}\".format(\n",
    "                producto_encontrado.obtener_id(), producto_encontrado.obtener_nombre(),\n",
    "                producto_encontrado.obtener_descripcion(), producto_encontrado.obtener_cantidad(),\n",
    "                producto_encontrado.obtener_precio()\n",
    "            ))\n",
    "        else:\n",
    "            print(f\"El producto con ID {id_producto} no existe en el inventario.\")\n",
    "\n",
    "    elif opcion == \"5\":\n",
    "        inventario.listar_productos()\n",
    "\n",
    "    elif opcion == \"6\":\n",
    "        print(\"Hasta luego!\")\n",
    "        break\n",
    "\n",
    "    else:\n",
    "        print(\"Opción inválida. Por favor, seleccione una opción válida del menú.\")\n"
   ]
  },
  {
   "cell_type": "markdown",
   "id": "aa01c5c6-d61f-4059-baf6-7fa07771de22",
   "metadata": {},
   "source": [
    "Gestione el código a través de GutHub.-"
   ]
  }
 ],
 "metadata": {
  "kernelspec": {
   "display_name": "Python 3 (ipykernel)",
   "language": "python",
   "name": "python3"
  },
  "language_info": {
   "codemirror_mode": {
    "name": "ipython",
    "version": 3
   },
   "file_extension": ".py",
   "mimetype": "text/x-python",
   "name": "python",
   "nbconvert_exporter": "python",
   "pygments_lexer": "ipython3",
   "version": "3.10.8"
  }
 },
 "nbformat": 4,
 "nbformat_minor": 5
}
